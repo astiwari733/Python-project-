{
  "nbformat": 4,
  "nbformat_minor": 0,
  "metadata": {
    "colab": {
      "provenance": []
    },
    "kernelspec": {
      "name": "python3",
      "display_name": "Python 3"
    },
    "language_info": {
      "name": "python"
    }
  },
  "cells": [
    {
      "cell_type": "markdown",
      "source": [
        "#Project : File Handling & String Manipulation"
      ],
      "metadata": {
        "id": "5WmQ6V53Xyri"
      }
    },
    {
      "cell_type": "markdown",
      "source": [
        "#Q. A sample script of Game of Thrones was taken from the page and stored in the file conv.txt in the dataset provided. Your task is to read the file and do the following:\n",
        "*1. Find out the number of unique characters in the sample conversation?"
      ],
      "metadata": {
        "id": "bwVwMAEeYRnR"
      }
    },
    {
      "cell_type": "code",
      "source": [
        "# In conv.txt file, we observe that the dialogues and characters are separated by a `:`,\n",
        "# on which we will use split function and append the separated characters in a blank list.\n",
        "\n",
        "name_list = []\n",
        "\n",
        "with open('/content/conv.txt', 'r') as text:\n",
        "    \n",
        "    for i in text:\n",
        "        if i[0]== '\\n':\n",
        "            pass\n",
        "        else:\n",
        "            name_list.append(i.split(':')[0])"
      ],
      "metadata": {
        "id": "lKIzCKwAXl5h"
      },
      "execution_count": 4,
      "outputs": []
    },
    {
      "cell_type": "code",
      "source": [
        "name_set = set(name_list)\n",
        "print('total characters in the conversation:',len(name_set))"
      ],
      "metadata": {
        "colab": {
          "base_uri": "https://localhost:8080/"
        },
        "id": "6lduUZ4cYpK5",
        "outputId": "c77e6e80-6efa-4a00-e954-07e6fd47d444"
      },
      "execution_count": 10,
      "outputs": [
        {
          "output_type": "stream",
          "name": "stdout",
          "text": [
            "total characters in the conversation: 17\n"
          ]
        }
      ]
    },
    {
      "cell_type": "code",
      "source": [],
      "metadata": {
        "id": "xeFPD292Y1zP"
      },
      "execution_count": null,
      "outputs": []
    },
    {
      "cell_type": "markdown",
      "source": [
        "#2. Create a new text file for each of the characters with their name and store the unique words said by them in their respective file. Store one word in one line"
      ],
      "metadata": {
        "id": "5vn4zWFDZAAC"
      }
    },
    {
      "cell_type": "code",
      "source": [
        "# In the given text file we will again split the character and dialogue and append them in a blank list, which will create\n",
        "# a nested list comprising list of each dialogue along with\n",
        "# its speaker on the 1st and 0th index respectively.\n",
        "\n",
        "conversation = []\n",
        "\n",
        "with open('dataset/conv.txt', 'r') as text:\n",
        "    \n",
        "    for i in text:\n",
        "        if i[0]== '\\n':\n",
        "            pass\n",
        "        else:\n",
        "            conversation.append(i.split(': '))"
      ],
      "metadata": {
        "id": "ygt9X8VlZCla"
      },
      "execution_count": null,
      "outputs": []
    },
    {
      "cell_type": "code",
      "source": [
        "# Now we will compare the 0th index containing names in \"conversation\" with the names in \"name_set\" created in above question\n",
        "# in a nested for loop. If the 0th index will match, 1st index of that list will be converted to string and\n",
        "# appended in the blank string \"dialogue_str\" in each loop.\n",
        "\n",
        "for i in name_set:\n",
        "    dialogue_str = \"\"\n",
        "    for j in conversation:\n",
        "        if j[0] == i:\n",
        "            dialogue_str = dialogue_str+str(j[1])\n",
        "\n",
        "# Now \"dialogue_str\" will be cleaned and all the words will be converted to uppercase/ lowercase in order to avoid\n",
        "# repetition due to case difference and then splitted to individual words.\n",
        "    \n",
        "    dialogue_str = dialogue_str.replace('!', '').replace(\".\",\"\").replace(\",\",\"\").replace(\"?\", \"\").upper()\n",
        "    dialogue_split = dialogue_str.split()\n",
        "\n",
        "# Convert these individual words present inside \"dialogue_split\" in to a set for getting unique words named \"dialogue_set\".\n",
        "    dialogue_set = set(dialogue_split)\n",
        "    \n",
        "# Insert these words from \"dialogue_set\" using for loop, creating respective text files by creating a file writing path\n",
        "# in 'w' mode, then close the file for the 'for loop'.\n",
        "    file = open(i+'.txt','w')\n",
        "    for k in dialogue_set:\n",
        "        file.write(k + '\\n')\n",
        "    file.close()"
      ],
      "metadata": {
        "id": "P61Cq9UXZNhu"
      },
      "execution_count": null,
      "outputs": []
    }
  ]
}